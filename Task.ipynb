{
  "nbformat": 4,
  "nbformat_minor": 0,
  "metadata": {
    "colab": {
      "provenance": [],
      "authorship_tag": "ABX9TyMFt1eXWXmFcCgtI7Fo1tVp",
      "include_colab_link": true
    },
    "kernelspec": {
      "name": "python3",
      "display_name": "Python 3"
    },
    "language_info": {
      "name": "python"
    }
  },
  "cells": [
    {
      "cell_type": "markdown",
      "metadata": {
        "id": "view-in-github",
        "colab_type": "text"
      },
      "source": [
        "<a href=\"https://colab.research.google.com/github/suganyaudhaya/Data-science/blob/main/Task.ipynb\" target=\"_parent\"><img src=\"https://colab.research.google.com/assets/colab-badge.svg\" alt=\"Open In Colab\"/></a>"
      ]
    },
    {
      "cell_type": "markdown",
      "source": [
        "1.)task 3 questions 20\n",
        "Write a NumPy program to search the index of a given array in another given array. Sample Output:\n",
        "Original NumPy array:\n",
        "[[ 1 2 3]\n",
        "[ 4 5 6]\n",
        "[ 7 8 9]\n",
        "[10 11 12]]\n",
        "Searched array:\n",
        "[4 5 6]\n",
        "Index of the searched array in the original array:\n",
        "[1]"
      ],
      "metadata": {
        "id": "VdZ62g_t_1iP"
      }
    },
    {
      "cell_type": "code",
      "execution_count": null,
      "metadata": {
        "colab": {
          "base_uri": "https://localhost:8080/"
        },
        "id": "Y93IOeUe_yxZ",
        "outputId": "50a9cfe5-b8d5-4808-d407-bcc50af2bd7d"
      },
      "outputs": [
        {
          "output_type": "stream",
          "name": "stdout",
          "text": [
            "Original NumPy array:\n",
            "[[ 1  2  3]\n",
            " [ 4  5  6]\n",
            " [ 7  8  9]\n",
            " [10 11 12]]\n",
            "Searched array:\n",
            "[4 5 6]\n",
            "Index of the searched array in the original array:\n",
            "[1]\n"
          ]
        }
      ],
      "source": [
        "\n",
        "import numpy as np\n",
        "\n",
        "# Original NumPy array\n",
        "original_array = np.array([[1, 2, 3], [4, 5, 6], [7, 8, 9], [10, 11, 12]])\n",
        "\n",
        "# Searched array\n",
        "searched_array = np.array([4, 5, 6])\n",
        "\n",
        "# Find index of the searched array in the original array\n",
        "index = np.where(np.all(original_array == searched_array, axis=1))[0]\n",
        "\n",
        "# Print the results\n",
        "print(\"Original NumPy array:\")\n",
        "print(original_array)\n",
        "print(\"Searched array:\")\n",
        "print(searched_array)\n",
        "print(\"Index of the searched array in the original array:\")\n",
        "print(index)"
      ]
    },
    {
      "cell_type": "markdown",
      "source": [],
      "metadata": {
        "id": "ezdFG8agGAca"
      }
    },
    {
      "cell_type": "markdown",
      "source": [
        "2.) task 1.5 questions\n",
        "Write a Pandas program to count the number of rows and columns of a DataFrame. Sample Python dictionary data and list labels:\n",
        "exam_data = {'name': ['Anastasia', 'Dima', 'Katherine', 'James', 'Emily', 'Michael', 'Matthew',\n",
        "'Laura', 'Kevin', 'Jonas'],\n",
        "'score': [12.5, 9, 16.5, np.nan, 9, 20, 14.5, np.nan, 8, 19],\n",
        "'attempts': [1, 3, 2, 3, 2, 3, 1, 1, 2, 1],\n",
        "'qualify': ['yes', 'no', 'yes', 'no', 'no', 'yes', 'yes', 'no', 'no', 'yes']}\n",
        "labels = ['a', 'b', 'c', 'd', 'e', 'f', 'g', 'h', 'i', 'j']\n",
        "Expected Output:\n",
        "Number of Rows: 10\n",
        "Number of Columns: 4"
      ],
      "metadata": {
        "id": "rZIN40HXB4EA"
      }
    },
    {
      "cell_type": "code",
      "source": [
        "\n",
        "import pandas as pd\n",
        "import numpy as np\n",
        "\n",
        "# Sample Python dictionary data and list labels\n",
        "exam_data = {'name': ['Anastasia', 'Dima', 'Katherine', 'James', 'Emily', 'Michael', 'Matthew',\n",
        "                      'Laura', 'Kevin', 'Jonas'],\n",
        "             'score': [12.5, 9, 16.5, np.nan, 9, 20, 14.5, np.nan, 8, 19],\n",
        "             'attempts': [1, 3, 2, 3, 2, 3, 1, 1, 2, 1],\n",
        "             'qualify': ['yes', 'no', 'yes', 'no', 'no', 'yes', 'yes', 'no', 'no', 'yes']}\n",
        "labels = ['a', 'b', 'c', 'd', 'e', 'f', 'g', 'h', 'i', 'j']\n",
        "\n",
        "# Create DataFrame\n",
        "df = pd.DataFrame(exam_data, index=labels)\n",
        "\n",
        "# Count the number of rows and columns\n",
        "num_rows = len(df)\n",
        "num_columns = len(df.columns)\n",
        "\n",
        "# Print the results\n",
        "print(\"Number of Rows:\", num_rows)\n",
        "print(\"Number of Columns:\", num_columns)"
      ],
      "metadata": {
        "colab": {
          "base_uri": "https://localhost:8080/"
        },
        "id": "Bv2qpeKvBkkq",
        "outputId": "94a26ad4-e4d6-428b-8dd4-9768a17bd8c6"
      },
      "execution_count": null,
      "outputs": [
        {
          "output_type": "stream",
          "name": "stdout",
          "text": [
            "Number of Rows: 10\n",
            "Number of Columns: 4\n"
          ]
        }
      ]
    },
    {
      "cell_type": "markdown",
      "source": [
        "3)task2.question 9 Compare the results of the Univariate and Bivariate analysis for the UCI diabetes data set"
      ],
      "metadata": {
        "id": "tTey0CwTIAjx"
      }
    },
    {
      "cell_type": "code",
      "source": [
        "\n",
        "I'm unable to directly compare results for the Univariate and Bivariate analysis for the UCI diabetes dataset without specific details on the analyses performed. However, I can guide you on how you might approach each analysis.\n",
        "\n",
        "1. **Univariate Analysis:**\n",
        "   - Focuses on analyzing one variable at a time.\n",
        "   - Descriptive statistics, histograms, box plots, and summary metrics can be used.\n",
        "   - Provides insights into the distribution, central tendency, and spread of each variable in isolation.\n",
        "\n",
        "2. **Bivariate Analysis:**\n",
        "   - Involves analyzing the relationship between two variables.\n",
        "   - Scatter plots, correlation coefficients, and contingency tables are common tools.\n",
        "   - Aims to identify patterns, correlations, or dependencies between pairs of variables.\n",
        "\n",
        "To compare the results, you would typically look at the following:\n",
        "   - **Univariate Analysis Insights:** What did you learn about each variable in isolation? Any notable patterns, outliers, or trends?\n",
        "   - **Bivariate Analysis Insights:** How do variables relate to each other? Are there strong correlations or dependencies? Any interesting patterns when considering two variables together?\n",
        "\n",
        "In the context of the UCI diabetes dataset, you might be interested in understanding how individual features (like age, BMI, blood pressure) relate to the target variable (diabetes outcome). Consider the types of analyses performed on these variables individually (univariate) and in pairs (bivariate) to draw meaningful comparisons.\n",
        "\n",
        "If you have specific details about the analyses or need assistance with a particular aspect, feel free to provide more information!"
      ],
      "metadata": {
        "id": "QsPrP6IMIWqu"
      },
      "execution_count": null,
      "outputs": []
    },
    {
      "cell_type": "markdown",
      "source": [
        "4.)task 1.4 question\n",
        "Write a Pandas program to select the specified columns and rows from a given data frame. Sample Python dictionary data and list labels:\n",
        "Select 'name' and 'score' columns in rows 1, 3, 5, 6 from the following data frame. exam_data = {'name': ['Anastasia', 'Dima', 'Katherine', 'James', 'Emily', 'Michael', 'Matthew',\n",
        "'Laura', 'Kevin', 'Jonas'],\n",
        "'score': [12.5, 9, 16.5, np.nan, 9, 20, 14.5, np.nan, 8, 19],\n",
        "'attempts': [1, 3, 2, 3, 2, 3, 1, 1, 2, 1],\n",
        "'qualify': ['yes', 'no', 'yes', 'no', 'no', 'yes', 'yes', 'no', 'no', 'yes']}\n",
        "labels = ['a', 'b', 'c', 'd', 'e', 'f', 'g', 'h', 'i', 'j']\n",
        "Expected Output:\n",
        "Select specific columns and rows:\n",
        "score qualify\n",
        "b 9.0 no\n",
        "d NaN no\n",
        "f 20.0 yes\n",
        "g 14.5 yes"
      ],
      "metadata": {
        "id": "9iB6RNYUC1pK"
      }
    },
    {
      "cell_type": "code",
      "source": [
        "\n",
        "import pandas as pd\n",
        "import numpy as np\n",
        "\n",
        "# Sample Python dictionary data and list labels\n",
        "exam_data = {'name': ['Anastasia', 'Dima', 'Katherine', 'James', 'Emily', 'Michael', 'Matthew',\n",
        "                      'Laura', 'Kevin', 'Jonas'],\n",
        "             'score': [12.5, 9, 16.5, np.nan, 9, 20, 14.5, np.nan, 8, 19],\n",
        "             'attempts': [1, 3, 2, 3, 2, 3, 1, 1, 2, 1],\n",
        "             'qualify': ['yes', 'no', 'yes', 'no', 'no', 'yes', 'yes', 'no', 'no', 'yes']}\n",
        "labels = ['a', 'b', 'c', 'd', 'e', 'f', 'g', 'h', 'i', 'j']\n",
        "\n",
        "# Create DataFrame\n",
        "df = pd.DataFrame(exam_data, index=labels)\n",
        "\n",
        "# Select specified columns and rows\n",
        "selected_data = df.loc[['b', 'd', 'f', 'g'], ['name', 'score']]\n",
        "\n",
        "# Print the results\n",
        "print(\"Select specific columns and rows:\")\n",
        "print(selected_data)"
      ],
      "metadata": {
        "colab": {
          "base_uri": "https://localhost:8080/"
        },
        "id": "ZKRA2SvtJJ_O",
        "outputId": "ababc06f-ed76-4477-8d9b-646bf2d9af7b"
      },
      "execution_count": null,
      "outputs": [
        {
          "output_type": "stream",
          "name": "stdout",
          "text": [
            "Select specific columns and rows:\n",
            "      name  score\n",
            "b     Dima    9.0\n",
            "d    James    NaN\n",
            "f  Michael   20.0\n",
            "g  Matthew   14.5\n"
          ]
        }
      ]
    },
    {
      "cell_type": "markdown",
      "source": [
        " 5)task 3. question 1. Write a NumPy program to convert an array to a float type\n",
        "b. Write a NumPy program to add a border (filled with 0's) around an existing array\n",
        "c. Write a NumPy program to convert a list and tuple into arrays\n",
        "d. Write a NumPy program to append values to the end of an array"
      ],
      "metadata": {
        "id": "CWrVvMlpJcjT"
      }
    },
    {
      "cell_type": "code",
      "source": [
        "#a)\n",
        "import numpy as np\n",
        "\n",
        "# Original array\n",
        "original_array = np.array([1, 2, 3, 4, 5])\n",
        "\n",
        "# Convert to float type\n",
        "float_array = original_array.astype(float)\n",
        "\n",
        "# Print the result\n",
        "print(\"Original array:\", original_array)\n",
        "print(\"Float type array:\", float_array)"
      ],
      "metadata": {
        "colab": {
          "base_uri": "https://localhost:8080/"
        },
        "id": "xbI6iTAWDRbS",
        "outputId": "64f7d3a0-c33a-42c4-d639-b95eddb21399"
      },
      "execution_count": null,
      "outputs": [
        {
          "output_type": "stream",
          "name": "stdout",
          "text": [
            "Original array: [1 2 3 4 5]\n",
            "Float type array: [1. 2. 3. 4. 5.]\n"
          ]
        }
      ]
    },
    {
      "cell_type": "code",
      "source": [
        "#b)\n",
        "import numpy as np\n",
        "\n",
        "# Existing array\n",
        "existing_array = np.ones((3, 3))\n",
        "\n",
        "# Add a border of 0's\n",
        "array_with_border = np.pad(existing_array, pad_width=1, mode='constant', constant_values=0)\n",
        "\n",
        "# Print the result\n",
        "print(\"Existing array:\")\n",
        "print(existing_array)\n",
        "print(\"Array with border:\")\n",
        "print(array_with_border)"
      ],
      "metadata": {
        "colab": {
          "base_uri": "https://localhost:8080/"
        },
        "id": "3deG6OxJDdfW",
        "outputId": "87c4d211-254f-4f10-ff70-671e5f55dfc9"
      },
      "execution_count": null,
      "outputs": [
        {
          "output_type": "stream",
          "name": "stdout",
          "text": [
            "Existing array:\n",
            "[[1. 1. 1.]\n",
            " [1. 1. 1.]\n",
            " [1. 1. 1.]]\n",
            "Array with border:\n",
            "[[0. 0. 0. 0. 0.]\n",
            " [0. 1. 1. 1. 0.]\n",
            " [0. 1. 1. 1. 0.]\n",
            " [0. 1. 1. 1. 0.]\n",
            " [0. 0. 0. 0. 0.]]\n"
          ]
        }
      ]
    },
    {
      "cell_type": "code",
      "source": [
        "#c)\n",
        "import numpy as np\n",
        "\n",
        "# Convert list to array\n",
        "list_data = [1, 2, 3, 4, 5]\n",
        "array_from_list = np.array(list_data)\n",
        "\n",
        "# Convert tuple to array\n",
        "tuple_data = (6, 7, 8, 9, 10)\n",
        "array_from_tuple = np.array(tuple_data)\n",
        "\n",
        "# Print the results\n",
        "print(\"Array from list:\", array_from_list)\n",
        "print(\"Array from tuple:\", array_from_tuple)"
      ],
      "metadata": {
        "colab": {
          "base_uri": "https://localhost:8080/"
        },
        "id": "52WAEyItDjBy",
        "outputId": "7e04a539-0567-44dc-a84d-037e993e7728"
      },
      "execution_count": null,
      "outputs": [
        {
          "output_type": "stream",
          "name": "stdout",
          "text": [
            "Array from list: [1 2 3 4 5]\n",
            "Array from tuple: [ 6  7  8  9 10]\n"
          ]
        }
      ]
    },
    {
      "cell_type": "code",
      "source": [
        "#d)\n",
        "import numpy as np\n",
        "\n",
        "# Original array\n",
        "original_array = np.array([1, 2, 3])\n",
        "\n",
        "# Values to append\n",
        "values_to_append = np.array([4, 5, 6])\n",
        "\n",
        "# Append values to the end of the array\n",
        "appended_array = np.append(original_array, values_to_append)\n",
        "\n",
        "# Print the result\n",
        "print(\"Original array:\", original_array)\n",
        "print(\"Appended array:\", appended_array)"
      ],
      "metadata": {
        "colab": {
          "base_uri": "https://localhost:8080/"
        },
        "id": "pd-4Q4mbDr-u",
        "outputId": "7aa832fc-ed1e-4281-a6e7-20b3c1b3c1f4"
      },
      "execution_count": null,
      "outputs": [
        {
          "output_type": "stream",
          "name": "stdout",
          "text": [
            "Original array: [1 2 3]\n",
            "Appended array: [1 2 3 4 5 6]\n"
          ]
        }
      ]
    },
    {
      "cell_type": "markdown",
      "source": [
        "6)task 2.queation 11Perform Univariate analysis with the following pandas DataFrame\n",
        "'points': [1, 1, 2, 3.5, 4, 4, 4, 5, 5, 6.5, 7, 7.4, 8, 13, 14.2]\n",
        "'assists': [5, 7, 7, 9, 12, 9, 9, 4, 6, 8, 8, 9, 3, 2, 6]\n",
        "'rebounds': [11, 8, 10, 6, 6, 5, 9, 12, 6, 6, 7, 8, 7, 9, 15]"
      ],
      "metadata": {
        "id": "fskUETkOKOz-"
      }
    },
    {
      "cell_type": "code",
      "source": [
        "\n",
        "import pandas as pd\n",
        "import matplotlib.pyplot as plt\n",
        "\n",
        "# Create the DataFrame\n",
        "data = {'points': [1, 1, 2, 3.5, 4, 4, 4, 5, 5, 6.5, 7, 7.4, 8, 13, 14.2],\n",
        "        'assists': [5, 7, 7, 9, 12, 9, 9, 4, 6, 8, 8, 9, 3, 2, 6],\n",
        "        'rebounds': [11, 8, 10, 6, 6, 5, 9, 12, 6, 6, 7, 8, 7, 9, 15]}\n",
        "\n",
        "df = pd.DataFrame(data)\n",
        "\n",
        "# Summary statistics\n",
        "summary_stats = df.describe()\n",
        "\n",
        "# Histograms for each variable\n",
        "df.hist(bins=15, figsize=(10, 6))\n",
        "plt.suptitle('Histograms for Univariate Analysis')\n",
        "plt.show()\n",
        "\n",
        "# Boxplots for each variable\n",
        "df.boxplot()\n",
        "plt.title('Boxplots for Univariate Analysis')\n",
        "plt.show()\n",
        "\n",
        "# Print summary statistics\n",
        "print(\"Summary Statistics:\")\n",
        "print(summary_stats)"
      ],
      "metadata": {
        "id": "bnagN-RTKjbw",
        "colab": {
          "base_uri": "https://localhost:8080/",
          "height": 672
        },
        "outputId": "9b8fc55e-2d8d-4781-8d4e-82e419489d9c"
      },
      "execution_count": null,
      "outputs": [
        {
          "output_type": "display_data",
          "data": {
            "text/plain": [
              "<Figure size 1000x600 with 4 Axes>"
            ],
            "image/png": "[encoded data removed]"
          },
          "metadata": {}
        },
        {
          "output_type": "display_data",
          "data": {
            "text/plain": [
              "<Figure size 640x480 with 1 Axes>"
            ],
            "image/png": "[encoded data removed]"
          },
          "metadata": {}
        },
        {
          "output_type": "stream",
          "name": "stdout",
          "text": [
            "Summary Statistics:\n",
            "          points    assists   rebounds\n",
            "count  15.000000  15.000000  15.000000\n",
            "mean    5.706667   6.933333   8.333333\n",
            "std     3.858287   2.658320   2.742956\n",
            "min     1.000000   2.000000   5.000000\n",
            "25%     3.750000   5.500000   6.000000\n",
            "50%     5.000000   7.000000   8.000000\n",
            "75%     7.200000   9.000000   9.500000\n",
            "max    14.200000  12.000000  15.000000\n"
          ]
        }
      ]
    }
  ]
}